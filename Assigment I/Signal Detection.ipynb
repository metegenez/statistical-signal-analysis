{
 "cells": [
  {
   "cell_type": "markdown",
   "metadata": {},
   "source": [
    "\\begin{equation} \\label{eq1}\n",
    "\\begin{split}\n",
    " \\mathbb{R} & = C_{00} P_p  \\int_{z_0} p_{r|H_0}(R|H_0)dR \\\\\n",
    " & + C_{10} P_p  \\int_{z_1} p_{r|H_0}(R|H_0)dR\n",
    "\\end{split}\n",
    "\\end{equation}"
   ]
  },
  {
   "cell_type": "code",
   "execution_count": 1,
   "metadata": {},
   "outputs": [],
   "source": [
    "import torch\n",
    "import numpy as np\n",
    "from matplotlib import pyplot as plt\n",
    "import scipy\n",
    "%matplotlib inline\n"
   ]
  },
  {
   "cell_type": "markdown",
   "metadata": {},
   "source": [
    "# MAP Threshold \n",
    "$H_1: r = 1 + n$\\\n",
    "$H_0: r = n$\\\n",
    "where $n$ is additive Gaussian Noise with $R(\\tau)=\\sigma^2\\delta(\\tau)\\tag{1}$ and $\\sigma^2 = \\frac{N_0}{2}$. MAP decision will be defined as \n",
    "\n",
    "\\begin{equation*}\n",
    "\\frac{p_{r | H_1}(r | H_1)}{p_{r | H_0}(r | H_0)} \\underset{H_0}{\\overset{H_1}{\\gtrless}} \\frac{p(H_0)}{p(H_1)}\n",
    "\\end{equation*}\n",
    "\n",
    "where \n",
    "\\begin{equation*}\n",
    "p_{r | H_1}(r | H_1)= {\\frac {1}{\\sqrt{\\frac{N_0}{2}{2\\pi} }}}e^{-{\\frac {1}{2}}\\left((r-1 )/\\frac{N_0}{2} \\right)^{2}}\n",
    "\\end{equation*}\n",
    "\\begin{equation*}\n",
    "p_{r | H_0}(r | H_0)= {\\frac {1}{\\sqrt{\\frac{N_0}{2}{2\\pi} }}}e^{-{\\frac {1}{2}}\\left((r )/\\frac{N_0}{2} \\right)^{2}}\n",
    "\\end{equation*}\n",
    "and $p(H_0) = 1/3$ and $p(H_1) = 2/3$ is given in question. If we define likelihood ratio and threshold as\n",
    "\\begin{equation*}\n",
    " \\Lambda(r) = \\frac{p_{r | H_1}(r | H_1)}{p_{r | H_0}(r | H_0)} \\\\\n",
    "\\end{equation*}\n",
    "and\n",
    "\\begin{equation*}\n",
    "\\xi = \\frac{p(H_0)}{p(H_1)} = 1/2\n",
    "\\end{equation*}\n",
    "\n",
    "\n",
    "\n",
    " and apply logaritmic transformation to make the division easy for exponentials, we get\n",
    "\\begin{equation*}\n",
    "ln \\Lambda(r) = \\frac{2}{N_0}r - \\frac{1}{N_0}\n",
    "\\end{equation*}\n",
    "and threshold directly affecting observation (single observation) becomes\n",
    "\\begin{equation*}\n",
    "r \\underset{H_1}{\\overset{H_2}{\\gtrless}} \\frac{N_0}{2} ln (\\xi) + 1/2\n",
    "\\end{equation*}\n",
    "and numerical threshold for each observation can be calculated and it depends AWGN on channel directly."
   ]
  },
  {
   "cell_type": "code",
   "execution_count": 2,
   "metadata": {},
   "outputs": [],
   "source": [
    "def define_threshold(noise): #N0_2 in linear \n",
    "    return noise * np.log(1/2) + 1/2\n",
    "def db2linear(value):\n",
    "    return 10 ** (value/10) "
   ]
  },
  {
   "cell_type": "code",
   "execution_count": 12,
   "metadata": {},
   "outputs": [
    {
     "data": {
      "text/plain": [
       "array([  0. ,  -2.5,  -5. ,  -7.5, -10. ])"
      ]
     },
     "execution_count": 12,
     "metadata": {},
     "output_type": "execute_result"
    }
   ],
   "source": [
    "#I created noise in linear, not dB\n",
    "db_noise = np.linspace(0,-10,5)\n",
    "db_noise"
   ]
  },
  {
   "cell_type": "markdown",
   "metadata": {},
   "source": [
    "# Decision Rules with Given Noise\n",
    "## Given assignment suggests that try out 3 things:\n",
    "1 - AND Gate in k digits\\\n",
    "2 - OR Gate in k digits\\\n",
    "3 - Choose according to M-of-k digits\n",
    "\n",
    "Actually, these suggestions are simply one rule with parameter M. If M = k-1, it is AND gate, if M = 0, it is OR gate. I wrote function that accepts M as a parameter as well. And tried it between 0 and k-1."
   ]
  },
  {
   "cell_type": "code",
   "execution_count": 9,
   "metadata": {},
   "outputs": [],
   "source": [
    "def gate_decision(noise, M, k=10, sequence_length = 10000):\n",
    "    error = 0\n",
    "    count = 0\n",
    "    while error < 100:\n",
    "            #Threshold for given noise\n",
    "        count += 1\n",
    "        threshold = define_threshold(db2linear(noise))\n",
    "            #Sequence generating\n",
    "        random_sequence = torch.rand(1,sequence_length)[0]\n",
    "        ones_zeros = (random_sequence > 1/3).float()\n",
    "            #Repeating each bit k times\n",
    "        ones_zeros.repeat(k, 1)\n",
    "        noise_signal = torch.rand(k, sequence_length) * torch.sqrt(torch.tensor(db2linear(noise)))\n",
    "        reciever = noise_signal + ones_zeros\n",
    "        sequence_recieved = torch.sum((reciever > threshold).float(),dim=0) > M\n",
    "        error += torch.sum(sequence_recieved.float() - ones_zeros)\n",
    "#         print(f\"error sayisi:{error}, count: {count}\")\n",
    "        \n",
    "\n",
    "    bit_error_rate = error / (count * sequence_length)\n",
    "    \n",
    "    return bit_error_rate"
   ]
  },
  {
   "cell_type": "code",
   "execution_count": null,
   "metadata": {},
   "outputs": [],
   "source": [
    "BER = []\n",
    "BER_m = []\n",
    "for m in range(0,10):\n",
    "    for noise in db_noise:\n",
    "        BER.append(gate_decision(noise, M = m).data.numpy())\n",
    "    BER_m.append(np.array(BER))\n",
    "    BER = []\n",
    "    "
   ]
  },
  {
   "cell_type": "code",
   "execution_count": 13,
   "metadata": {},
   "outputs": [
    {
     "data": {
      "text/plain": [
       "[array([0.3241, 0.3336, 0.3318, 0.3358, 0.3256, 0.328 , 0.3331, 0.3371,\n",
       "        0.3296, 0.3311], dtype=float32),\n",
       " array([0.3337, 0.3445, 0.3396, 0.3348, 0.3371, 0.3235, 0.3363, 0.3332,\n",
       "        0.3173, 0.3083], dtype=float32),\n",
       " array([0.33  , 0.339 , 0.3336, 0.3346, 0.3352, 0.3334, 0.3358, 0.3219,\n",
       "        0.3097, 0.2425], dtype=float32),\n",
       " array([0.3358, 0.3357, 0.3368, 0.3332, 0.3293, 0.3392, 0.3198, 0.3068,\n",
       "        0.244 , 0.1628], dtype=float32),\n",
       " array([0.327 , 0.3359, 0.3415, 0.3256, 0.3347, 0.3215, 0.3018, 0.251 ,\n",
       "        0.1675, 0.0872], dtype=float32),\n",
       " array([0.3347, 0.3249, 0.3376, 0.3381, 0.3384, 0.3069, 0.2538, 0.1685,\n",
       "        0.0907, 0.0326], dtype=float32),\n",
       " array([0.3373  , 0.327   , 0.3404  , 0.3314  , 0.3097  , 0.249   ,\n",
       "        0.1662  , 0.0844  , 0.0345  , 0.008575], dtype=float32),\n",
       " array([0.329     , 0.3261    , 0.3353    , 0.3189    , 0.2556    ,\n",
       "        0.1693    , 0.0822    , 0.0301    , 0.0095    , 0.00146667],\n",
       "       dtype=float32),\n",
       " array([3.4380001e-01, 3.3210000e-01, 3.3090001e-01, 2.7509999e-01,\n",
       "        1.5850000e-01, 7.4900001e-02, 2.7100001e-02, 8.9750001e-03,\n",
       "        1.4809524e-03, 1.7751480e-04], dtype=float32),\n",
       " array([3.3350000e-01, 3.2920000e-01, 3.2810000e-01, 1.4920001e-01,\n",
       "        4.8599999e-02, 1.6249999e-02, 4.2500002e-03, 8.9999998e-04,\n",
       "        1.2048193e-04, 1.0193680e-05], dtype=float32)]"
      ]
     },
     "execution_count": 13,
     "metadata": {},
     "output_type": "execute_result"
    }
   ],
   "source": [
    "BER_m"
   ]
  },
  {
   "cell_type": "code",
   "execution_count": 469,
   "metadata": {},
   "outputs": [
    {
     "data": {
      "image/png": "[encoded data removed]",
      "text/plain": [
       "<Figure size 432x288 with 1 Axes>"
      ]
     },
     "metadata": {
      "needs_background": "light"
     },
     "output_type": "display_data"
    },
    {
     "data": {
      "image/png": "[encoded data removed]",
      "text/plain": [
       "<Figure size 432x288 with 1 Axes>"
      ]
     },
     "metadata": {
      "needs_background": "light"
     },
     "output_type": "display_data"
    }
   ],
   "source": [
    "plt.subplot(1,1,1)\n",
    "plt.plot(db_noise, np.array(BER_and), lw=3)\n",
    "plt.yscale('log')\n",
    "plt.xlabel(\"N0/2\")\n",
    "plt.ylabel(\"Bit Error Rate\")\n",
    "plt.title(\"AND Decision Rule\")\n",
    "plt.show()\n",
    "plt.subplot(1,1,1)\n",
    "plt.plot(db_noise, np.array(BER_and), lw=3)\n",
    "plt.yscale('log')\n",
    "plt.show()"
   ]
  },
  {
   "cell_type": "code",
   "execution_count": 299,
   "metadata": {},
   "outputs": [
    {
     "data": {
      "text/plain": [
       "tensor([1, 0, 1, 1, 0, 0, 0, 0, 1, 1, 1, 0, 1, 1, 0, 1, 0, 0, 1, 1],\n",
       "       dtype=torch.uint8)"
      ]
     },
     "execution_count": 299,
     "metadata": {},
     "output_type": "execute_result"
    }
   ],
   "source": [
    "sequence_recieved"
   ]
  }
 ],
 "metadata": {
  "kernelspec": {
   "display_name": "Python 3",
   "language": "python",
   "name": "python3"
  },
  "language_info": {
   "codemirror_mode": {
    "name": "ipython",
    "version": 3
   },
   "file_extension": ".py",
   "mimetype": "text/x-python",
   "name": "python",
   "nbconvert_exporter": "python",
   "pygments_lexer": "ipython3",
   "version": "3.6.9"
  }
 },
 "nbformat": 4,
 "nbformat_minor": 2
}
